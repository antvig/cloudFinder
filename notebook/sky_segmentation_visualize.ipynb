{
 "cells": [
  {
   "cell_type": "code",
   "execution_count": 7,
   "metadata": {
    "Collapsed": "false"
   },
   "outputs": [
    {
     "name": "stdout",
     "output_type": "stream",
     "text": [
      "/home/antoine/cloudFinder\n"
     ]
    }
   ],
   "source": [
    "cd '~/cloudFinder/'"
   ]
  },
  {
   "cell_type": "code",
   "execution_count": 8,
   "metadata": {
    "Collapsed": "false"
   },
   "outputs": [],
   "source": [
    "import jupyterlab_dash\n",
    "import dash\n",
    "import dash_core_components as dcc\n",
    "import dash_html_components as html\n",
    "\n",
    "from dash.dependencies import Input, Output\n",
    "import feather as ft \n",
    "import pandas as pd\n",
    "import base64\n",
    "import dash_table\n",
    "from io import BytesIO\n",
    "from skimage import measure\n",
    "\n",
    "\n",
    "import plotly.graph_objects as go\n",
    "from src.image.utils import load_image\n",
    "from src.image.transform import resize_image\n",
    "import matplotlib.pyplot as plt\n",
    "\n",
    "from sklearn.metrics import confusion_matrix, accuracy_score, recall_score, precision_score\n",
    "viewer = jupyterlab_dash.AppViewer(port=9998)"
   ]
  },
  {
   "cell_type": "markdown",
   "metadata": {},
   "source": [
    "======================================================================================================"
   ]
  },
  {
   "cell_type": "code",
   "execution_count": 3,
   "metadata": {
    "Collapsed": "false"
   },
   "outputs": [],
   "source": [
    "MODEL_PATH = 'data/process/sky_segmentation/'"
   ]
  },
  {
   "cell_type": "markdown",
   "metadata": {},
   "source": [
    "======================================================================================================"
   ]
  },
  {
   "cell_type": "code",
   "execution_count": 4,
   "metadata": {
    "Collapsed": "false"
   },
   "outputs": [
    {
     "data": {
      "text/html": [
       "<div>\n",
       "<style scoped>\n",
       "    .dataframe tbody tr th:only-of-type {\n",
       "        vertical-align: middle;\n",
       "    }\n",
       "\n",
       "    .dataframe tbody tr th {\n",
       "        vertical-align: top;\n",
       "    }\n",
       "\n",
       "    .dataframe thead th {\n",
       "        text-align: right;\n",
       "    }\n",
       "</style>\n",
       "<table border=\"1\" class=\"dataframe\">\n",
       "  <thead>\n",
       "    <tr style=\"text-align: right;\">\n",
       "      <th></th>\n",
       "      <th>img_name</th>\n",
       "      <th>prediction_label</th>\n",
       "      <th>metric</th>\n",
       "      <th>score</th>\n",
       "    </tr>\n",
       "  </thead>\n",
       "  <tbody>\n",
       "    <tr>\n",
       "      <th>0</th>\n",
       "      <td>labelme_aacpgupgzvdjapw.jpg</td>\n",
       "      <td>is_sky_PREDICTED</td>\n",
       "      <td>accuracy</td>\n",
       "      <td>0.866917</td>\n",
       "    </tr>\n",
       "    <tr>\n",
       "      <th>1</th>\n",
       "      <td>labelme_aacpgupgzvdjapw.jpg</td>\n",
       "      <td>is_sky_PREDICTED</td>\n",
       "      <td>precision</td>\n",
       "      <td>0.741146</td>\n",
       "    </tr>\n",
       "    <tr>\n",
       "      <th>2</th>\n",
       "      <td>labelme_aacpgupgzvdjapw.jpg</td>\n",
       "      <td>is_sky_PREDICTED</td>\n",
       "      <td>recall</td>\n",
       "      <td>0.589976</td>\n",
       "    </tr>\n",
       "    <tr>\n",
       "      <th>3</th>\n",
       "      <td>labelme_aacpgupgzvdjapw.jpg</td>\n",
       "      <td>is_sky_PREDICTED_COR</td>\n",
       "      <td>accuracy</td>\n",
       "      <td>0.881729</td>\n",
       "    </tr>\n",
       "    <tr>\n",
       "      <th>4</th>\n",
       "      <td>labelme_aacpgupgzvdjapw.jpg</td>\n",
       "      <td>is_sky_PREDICTED_COR</td>\n",
       "      <td>precision</td>\n",
       "      <td>0.874424</td>\n",
       "    </tr>\n",
       "  </tbody>\n",
       "</table>\n",
       "</div>"
      ],
      "text/plain": [
       "                      img_name      prediction_label     metric     score\n",
       "0  labelme_aacpgupgzvdjapw.jpg      is_sky_PREDICTED   accuracy  0.866917\n",
       "1  labelme_aacpgupgzvdjapw.jpg      is_sky_PREDICTED  precision  0.741146\n",
       "2  labelme_aacpgupgzvdjapw.jpg      is_sky_PREDICTED     recall  0.589976\n",
       "3  labelme_aacpgupgzvdjapw.jpg  is_sky_PREDICTED_COR   accuracy  0.881729\n",
       "4  labelme_aacpgupgzvdjapw.jpg  is_sky_PREDICTED_COR  precision  0.874424"
      ]
     },
     "execution_count": 4,
     "metadata": {},
     "output_type": "execute_result"
    }
   ],
   "source": [
    "df_score = ft.read_dataframe(MODEL_PATH + '/score_per_image.ft')\n",
    "df_score.head()"
   ]
  },
  {
   "cell_type": "code",
   "execution_count": 5,
   "metadata": {},
   "outputs": [
    {
     "ename": "FileNotFoundError",
     "evalue": "[Errno 2] Failed to open local file 'models/sky_segmentation/model_1//cv.ft'. Detail: [errno 2] No such file or directory",
     "output_type": "error",
     "traceback": [
      "\u001b[0;31m---------------------------------------------------------------------------\u001b[0m",
      "\u001b[0;31mFileNotFoundError\u001b[0m                         Traceback (most recent call last)",
      "\u001b[0;32m<ipython-input-5-823149662c2a>\u001b[0m in \u001b[0;36m<module>\u001b[0;34m\u001b[0m\n\u001b[0;32m----> 1\u001b[0;31m \u001b[0mdf_cv\u001b[0m \u001b[0;34m=\u001b[0m \u001b[0mft\u001b[0m\u001b[0;34m.\u001b[0m\u001b[0mread_dataframe\u001b[0m\u001b[0;34m(\u001b[0m\u001b[0mMODEL_PATH\u001b[0m \u001b[0;34m+\u001b[0m \u001b[0;34m'/cv.ft'\u001b[0m\u001b[0;34m)\u001b[0m\u001b[0;34m\u001b[0m\u001b[0;34m\u001b[0m\u001b[0m\n\u001b[0m\u001b[1;32m      2\u001b[0m \u001b[0mdf_cv\u001b[0m\u001b[0;34m[\u001b[0m\u001b[0;34m'is_sky'\u001b[0m\u001b[0;34m]\u001b[0m \u001b[0;34m=\u001b[0m \u001b[0mdf_cv\u001b[0m\u001b[0;34m[\u001b[0m\u001b[0;34m'is_sky'\u001b[0m\u001b[0;34m]\u001b[0m\u001b[0;34m.\u001b[0m\u001b[0mastype\u001b[0m\u001b[0;34m(\u001b[0m\u001b[0mint\u001b[0m\u001b[0;34m)\u001b[0m\u001b[0;34m\u001b[0m\u001b[0;34m\u001b[0m\u001b[0m\n\u001b[1;32m      3\u001b[0m \u001b[0mdf_cv\u001b[0m\u001b[0;34m.\u001b[0m\u001b[0mhead\u001b[0m\u001b[0;34m(\u001b[0m\u001b[0;34m)\u001b[0m\u001b[0;34m\u001b[0m\u001b[0;34m\u001b[0m\u001b[0m\n",
      "\u001b[0;32m~/cloudFinder_env/lib/python3.6/site-packages/pyarrow/feather.py\u001b[0m in \u001b[0;36mread_feather\u001b[0;34m(source, columns, use_threads, memory_map)\u001b[0m\n\u001b[1;32m    206\u001b[0m     \"\"\"\n\u001b[1;32m    207\u001b[0m     \u001b[0m_check_pandas_version\u001b[0m\u001b[0;34m(\u001b[0m\u001b[0;34m)\u001b[0m\u001b[0;34m\u001b[0m\u001b[0;34m\u001b[0m\u001b[0m\n\u001b[0;32m--> 208\u001b[0;31m     return (read_table(source, columns=columns, memory_map=memory_map)\n\u001b[0m\u001b[1;32m    209\u001b[0m             .to_pandas(use_threads=use_threads))\n\u001b[1;32m    210\u001b[0m \u001b[0;34m\u001b[0m\u001b[0m\n",
      "\u001b[0;32m~/cloudFinder_env/lib/python3.6/site-packages/pyarrow/feather.py\u001b[0m in \u001b[0;36mread_table\u001b[0;34m(source, columns, memory_map)\u001b[0m\n\u001b[1;32m    228\u001b[0m     \"\"\"\n\u001b[1;32m    229\u001b[0m     \u001b[0mreader\u001b[0m \u001b[0;34m=\u001b[0m \u001b[0mext\u001b[0m\u001b[0;34m.\u001b[0m\u001b[0mFeatherReader\u001b[0m\u001b[0;34m(\u001b[0m\u001b[0;34m)\u001b[0m\u001b[0;34m\u001b[0m\u001b[0;34m\u001b[0m\u001b[0m\n\u001b[0;32m--> 230\u001b[0;31m     \u001b[0mreader\u001b[0m\u001b[0;34m.\u001b[0m\u001b[0mopen\u001b[0m\u001b[0;34m(\u001b[0m\u001b[0msource\u001b[0m\u001b[0;34m,\u001b[0m \u001b[0muse_memory_map\u001b[0m\u001b[0;34m=\u001b[0m\u001b[0mmemory_map\u001b[0m\u001b[0;34m)\u001b[0m\u001b[0;34m\u001b[0m\u001b[0;34m\u001b[0m\u001b[0m\n\u001b[0m\u001b[1;32m    231\u001b[0m \u001b[0;34m\u001b[0m\u001b[0m\n\u001b[1;32m    232\u001b[0m     \u001b[0;32mif\u001b[0m \u001b[0mcolumns\u001b[0m \u001b[0;32mis\u001b[0m \u001b[0;32mNone\u001b[0m\u001b[0;34m:\u001b[0m\u001b[0;34m\u001b[0m\u001b[0;34m\u001b[0m\u001b[0m\n",
      "\u001b[0;32m~/cloudFinder_env/lib/python3.6/site-packages/pyarrow/feather.pxi\u001b[0m in \u001b[0;36mpyarrow.lib.FeatherReader.open\u001b[0;34m()\u001b[0m\n",
      "\u001b[0;32m~/cloudFinder_env/lib/python3.6/site-packages/pyarrow/io.pxi\u001b[0m in \u001b[0;36mpyarrow.lib.get_reader\u001b[0;34m()\u001b[0m\n",
      "\u001b[0;32m~/cloudFinder_env/lib/python3.6/site-packages/pyarrow/io.pxi\u001b[0m in \u001b[0;36mpyarrow.lib._get_native_file\u001b[0;34m()\u001b[0m\n",
      "\u001b[0;32m~/cloudFinder_env/lib/python3.6/site-packages/pyarrow/io.pxi\u001b[0m in \u001b[0;36mpyarrow.lib.memory_map\u001b[0;34m()\u001b[0m\n",
      "\u001b[0;32m~/cloudFinder_env/lib/python3.6/site-packages/pyarrow/io.pxi\u001b[0m in \u001b[0;36mpyarrow.lib.MemoryMappedFile._open\u001b[0;34m()\u001b[0m\n",
      "\u001b[0;32m~/cloudFinder_env/lib/python3.6/site-packages/pyarrow/error.pxi\u001b[0m in \u001b[0;36mpyarrow.lib.pyarrow_internal_check_status\u001b[0;34m()\u001b[0m\n",
      "\u001b[0;32m~/cloudFinder_env/lib/python3.6/site-packages/pyarrow/error.pxi\u001b[0m in \u001b[0;36mpyarrow.lib.check_status\u001b[0;34m()\u001b[0m\n",
      "\u001b[0;31mFileNotFoundError\u001b[0m: [Errno 2] Failed to open local file 'models/sky_segmentation/model_1//cv.ft'. Detail: [errno 2] No such file or directory"
     ]
    }
   ],
   "source": [
    "df_cv = ft.read_dataframe(MODEL_PATH + '/cv.ft')\n",
    "df_cv['is_sky'] = df_cv['is_sky'].astype(int)\n",
    "df_cv.head()"
   ]
  },
  {
   "cell_type": "code",
   "execution_count": null,
   "metadata": {
    "Collapsed": "false"
   },
   "outputs": [],
   "source": [
    "df_meta = ft.read_dataframe(MODEL_PATH + '/traindataset_meta.ft')\n",
    "df_meta.head()"
   ]
  },
  {
   "cell_type": "code",
   "execution_count": 6,
   "metadata": {
    "Collapsed": "false"
   },
   "outputs": [
    {
     "ename": "NameError",
     "evalue": "name 'df_cv' is not defined",
     "output_type": "error",
     "traceback": [
      "\u001b[0;31m---------------------------------------------------------------------------\u001b[0m",
      "\u001b[0;31mNameError\u001b[0m                                 Traceback (most recent call last)",
      "\u001b[0;32m<ipython-input-6-244af9d286f2>\u001b[0m in \u001b[0;36m<module>\u001b[0;34m\u001b[0m\n\u001b[0;32m----> 1\u001b[0;31m \u001b[0mall_img\u001b[0m \u001b[0;34m=\u001b[0m \u001b[0mset\u001b[0m\u001b[0;34m(\u001b[0m\u001b[0mdf_cv\u001b[0m\u001b[0;34m[\u001b[0m\u001b[0;34m'img_name'\u001b[0m\u001b[0;34m]\u001b[0m\u001b[0;34m)\u001b[0m\u001b[0;34m\u001b[0m\u001b[0;34m\u001b[0m\u001b[0m\n\u001b[0m\u001b[1;32m      2\u001b[0m \u001b[0mall_metric\u001b[0m \u001b[0;34m=\u001b[0m \u001b[0mset\u001b[0m\u001b[0;34m(\u001b[0m\u001b[0;34m[\u001b[0m\u001b[0;34m'accuracy'\u001b[0m\u001b[0;34m,\u001b[0m \u001b[0;34m'recall'\u001b[0m\u001b[0;34m,\u001b[0m \u001b[0;34m'precision'\u001b[0m\u001b[0;34m]\u001b[0m\u001b[0;34m)\u001b[0m\u001b[0;34m\u001b[0m\u001b[0;34m\u001b[0m\u001b[0m\n",
      "\u001b[0;31mNameError\u001b[0m: name 'df_cv' is not defined"
     ]
    }
   ],
   "source": [
    "all_img = set(df_cv['img_name'])\n",
    "all_metric = set(['accuracy', 'recall', 'precision'])"
   ]
  },
  {
   "cell_type": "code",
   "execution_count": null,
   "metadata": {
    "Collapsed": "false"
   },
   "outputs": [],
   "source": [
    "external_stylesheets = [\"https://codepen.io/chriddyp/pen/bWLwgP.css\"]\n",
    "\n",
    "app = dash.Dash(__name__, external_stylesheets=external_stylesheets)\n",
    "\n",
    "app.layout = html.Div(\n",
    "    [\n",
    "        html.Div([html.H1(children=\"Sky segmentation\"),], className=\"row\"),\n",
    "        html.Div(\n",
    "            [\n",
    "                html.Div(\n",
    "                    [\n",
    "                        html.H6(children=\"Metric\"),\n",
    "                        dcc.Dropdown(\n",
    "                            options=[{\"label\": i, \"value\": i} for i in all_metric],\n",
    "                            value=\"accuracy\",\n",
    "                            multi=False,\n",
    "                            id=\"metric\",\n",
    "                        ),\n",
    "                        html.H6(children=\"Image score\"),\n",
    "                        dash_table.DataTable(\n",
    "                            id=\"score_table\",\n",
    "                            columns=[\n",
    "                                {\"name\": i, \"id\": i}\n",
    "                                for i in [\"Image\", \"Score\", \"Corrected Score\"]\n",
    "                            ],\n",
    "                            sort_action=\"native\",\n",
    "                            page_size=10,\n",
    "                            style_table={\"maxHeight\": \"50\", \"overflowY\": \"scroll\"},\n",
    "                        ),\n",
    "                    ],\n",
    "                    className=\"four columns\",\n",
    "                ),\n",
    "                html.Div(\n",
    "                    [\n",
    "                        html.H6(children=\"Score\"),\n",
    "                        dcc.Graph(id=\"box_plot\"),\n",
    "                    ],\n",
    "                    className=\"eight columns\",\n",
    "                ),\n",
    "            ],\n",
    "            className=\"row\",\n",
    "        ),\n",
    "        html.Div(\n",
    "            [\n",
    "                html.Div(\n",
    "                    [\n",
    "                        html.H6(children=\"image name\"),\n",
    "                        dcc.Dropdown(\n",
    "                            options=[{\"label\": i, \"value\": i} for i in all_img],\n",
    "                            value=\"labelme_aacpgupgzvdjapw.jpg\",\n",
    "                            multi=False,\n",
    "                            id=\"img_name\",\n",
    "                        ),\n",
    "                        html.H6(children=\"With correction\"),\n",
    "                        dcc.RadioItems(\n",
    "                            id=\"corr\",\n",
    "                            options=[\n",
    "                                {\"label\": i, \"value\": i} for i in [\"True\", \"False\"]\n",
    "                            ],\n",
    "                            value=\"False\",\n",
    "                            labelStyle={\"display\": \"inline-block\"},\n",
    "                        ),\n",
    "                        html.H6(children=\"confusion matrix\"),\n",
    "                        dcc.Markdown(\n",
    "                            children=\"\"\"\n",
    "                                            |          | pos      | neg      |\n",
    "                                            |----------|----------|----------|\n",
    "                                            | Pred Pos | 0   | 0  | \n",
    "                                            | Pred Neg | 0   | 0  | \n",
    "                                        \"\"\",\n",
    "                            id=\"confusion_matrix\",\n",
    "                        ),\n",
    "                    ],\n",
    "                    className=\"four columns\",\n",
    "                ),\n",
    "                html.Div(\n",
    "                    [\n",
    "                        html.H6(children=\"Image\"),\n",
    "                        html.Img(src=\"\", id=\"img_plot\"),\n",
    "                    ],\n",
    "                    className=\"eight columns\",\n",
    "                ),\n",
    "            ],\n",
    "            className=\"row\",\n",
    "        ),\n",
    "    ],\n",
    "    className=\"ten columns offset-by-one\",\n",
    ")"
   ]
  },
  {
   "cell_type": "code",
   "execution_count": null,
   "metadata": {
    "Collapsed": "false"
   },
   "outputs": [],
   "source": [
    "@app.callback(\n",
    "    Output(\"box_plot\", \"figure\"), [Input(\"metric\", \"value\")]\n",
    ")\n",
    "def update_plot(metric):\n",
    "    data = []\n",
    "    for fold_label, fold_df in df_score.groupby(\"fold\"):\n",
    "        data.append(go.Box(y=fold_df[fold_df.prediction_label == \"is_sky_PREDICTED\"][metric], name=str(fold_label) + \"_without_cor\"))\n",
    "        data.append(go.Box(y=fold_df[fold_df.prediction_label == \"is_sky_PREDICTED_COR\"][metric], name=str(fold_label) + \"_with_cor\"))\n",
    "    return {\"data\": data}"
   ]
  },
  {
   "cell_type": "code",
   "execution_count": null,
   "metadata": {
    "Collapsed": "false"
   },
   "outputs": [],
   "source": [
    "@app.callback(\n",
    "    Output(\"confusion_matrix\", \"children\"),\n",
    "    [Input(\"img_name\", \"value\"), Input(\"corr\", \"value\")],\n",
    ")\n",
    "def update_confusion_matrix(img_name, with_correction):\n",
    "\n",
    "    if with_correction == \"True\":\n",
    "        pred_label = \"is_sky_PREDICTED_COR\"\n",
    "    else:\n",
    "        pred_label = \"is_sky_PREDICTED\"\n",
    "\n",
    "    tmp = df_cv[df_cv[\"img_name\"] == img_name].copy()\n",
    "\n",
    "    tn, fp, fn, tp = confusion_matrix(tmp[\"is_sky\"], tmp[pred_label]).ravel()\n",
    "\n",
    "    txt = \"\"\"\n",
    "        |          | pos      | neg      |\n",
    "        |----------|----------|----------|\n",
    "        | Pred Pos | {}   | {}  | \n",
    "        | Pred Neg | {}   | {}    |\n",
    "        \"\"\".format(\n",
    "        tp, fp, fn, tn\n",
    "    )\n",
    "    return txt"
   ]
  },
  {
   "cell_type": "code",
   "execution_count": null,
   "metadata": {
    "Collapsed": "false"
   },
   "outputs": [],
   "source": [
    "@app.callback(Output('score_table', 'data'), [Input('metric', 'value')])\n",
    "def update_table(metric):\n",
    "    tmp = df_score[['img_name', metric, \"prediction_label\"]].groupby(['img_name', 'prediction_label']).mean().unstack(level=1).reset_index(drop=False)\n",
    "    tmp.columns = [\"Image\", \"Score\", \"Corrected Score\"]\n",
    "    return tmp.to_dict(\"rows\")\n"
   ]
  },
  {
   "cell_type": "code",
   "execution_count": null,
   "metadata": {
    "Collapsed": "false"
   },
   "outputs": [],
   "source": [
    "@app.callback(\n",
    "    Output(\"img_plot\", \"src\"), [Input(\"img_name\", \"value\"), Input(\"corr\", \"value\")]\n",
    ")\n",
    "def update_image(img_name, with_correction):\n",
    "\n",
    "    if with_correction == \"True\":\n",
    "        pred_label = \"is_sky_PREDICTED_COR\"\n",
    "    else:\n",
    "        pred_label = \"is_sky_PREDICTED\"\n",
    "\n",
    "    size_h, size_l = df_meta[df_meta.img_name == img_name][[\"size_h\", \"size_l\"]].iloc[0]\n",
    "\n",
    "    df_cv_image = df_cv[df_cv.img_name == img_name].copy()\n",
    "\n",
    "    sky = df_cv_image[\"is_sky\"].values.reshape((size_h, size_l))\n",
    "    sky_contours = measure.find_contours(sky, 0)\n",
    "    \n",
    "    sky_predicted = df_cv_image[pred_label].values.reshape((size_h, size_l))\n",
    "    sky_predicted_contours = measure.find_contours(sky_predicted, 0)\n",
    "\n",
    "    img = load_image(\"data/img/sky_segmentation/\", img_name)\n",
    "    img_resized = resize_image(img, 100)\n",
    "\n",
    "    fig, ax = plt.subplots(figsize=(10, 10))\n",
    "    ax.imshow(img_resized)\n",
    "    for n, c in enumerate(sky_contours):\n",
    "        ax.plot(c[:, 1], c[:, 0], linewidth=3, color=\"r\")\n",
    "    for n, c in enumerate(sky_predicted_contours):\n",
    "        ax.plot(c[:, 1], c[:, 0], linewidth=3, color=\"y\")\n",
    "    figfile = BytesIO()\n",
    "    plt.savefig(figfile, format=\"png\")\n",
    "    figdata_png = base64.b64encode(figfile.getvalue()).decode()\n",
    "\n",
    "    src = \"data:image/png;base64,{}\".format(figdata_png)\n",
    "\n",
    "    return src"
   ]
  },
  {
   "cell_type": "code",
   "execution_count": null,
   "metadata": {
    "Collapsed": "false"
   },
   "outputs": [],
   "source": [
    "viewer.stderr_queue.write('Running on'.encode('utf-8'))\n",
    "viewer.show(app)"
   ]
  },
  {
   "cell_type": "code",
   "execution_count": null,
   "metadata": {},
   "outputs": [],
   "source": []
  },
  {
   "cell_type": "code",
   "execution_count": null,
   "metadata": {},
   "outputs": [],
   "source": []
  },
  {
   "cell_type": "code",
   "execution_count": null,
   "metadata": {},
   "outputs": [],
   "source": []
  },
  {
   "cell_type": "code",
   "execution_count": null,
   "metadata": {},
   "outputs": [],
   "source": []
  },
  {
   "cell_type": "code",
   "execution_count": null,
   "metadata": {
    "Collapsed": "false"
   },
   "outputs": [],
   "source": [
    "viewer.terminate()"
   ]
  },
  {
   "cell_type": "code",
   "execution_count": null,
   "metadata": {},
   "outputs": [],
   "source": []
  }
 ],
 "metadata": {
  "kernelspec": {
   "display_name": "Python 3",
   "language": "python",
   "name": "python3"
  },
  "language_info": {
   "codemirror_mode": {
    "name": "ipython",
    "version": 3
   },
   "file_extension": ".py",
   "mimetype": "text/x-python",
   "name": "python",
   "nbconvert_exporter": "python",
   "pygments_lexer": "ipython3",
   "version": "3.6.9"
  },
  "widgets": {
   "application/vnd.jupyter.widget-state+json": {
    "state": {},
    "version_major": 2,
    "version_minor": 0
   }
  }
 },
 "nbformat": 4,
 "nbformat_minor": 4
}
