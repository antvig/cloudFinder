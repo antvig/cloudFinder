{
 "cells": [
  {
   "cell_type": "code",
   "execution_count": 60,
   "metadata": {
    "Collapsed": "false"
   },
   "outputs": [
    {
     "name": "stdout",
     "output_type": "stream",
     "text": [
      "/home/antoine/cloudFinder\n"
     ]
    }
   ],
   "source": [
    "cd '~/cloudFinder/'"
   ]
  },
  {
   "cell_type": "code",
   "execution_count": 76,
   "metadata": {
    "Collapsed": "false"
   },
   "outputs": [],
   "source": [
    "import jupyterlab_dash\n",
    "import dash\n",
    "import dash_core_components as dcc\n",
    "import dash_html_components as html\n",
    "\n",
    "from dash.dependencies import Input, Output\n",
    "import feather as ft \n",
    "import pandas as pd\n",
    "import base64\n",
    "import dash_table\n",
    "from io import BytesIO\n",
    "from skimage import measure\n",
    "\n",
    "\n",
    "import plotly.graph_objects as go\n",
    "from src.image.utils import load_image\n",
    "from src.image.transform import resize_image\n",
    "import matplotlib.pyplot as plt\n",
    "\n",
    "from sklearn.metrics import confusion_matrix, accuracy_score, recall_score, precision_score\n",
    "viewer = jupyterlab_dash.AppViewer(port=9996)"
   ]
  },
  {
   "cell_type": "code",
   "execution_count": 77,
   "metadata": {
    "Collapsed": "false"
   },
   "outputs": [],
   "source": [
    "COMPUTE_PERFORMANCE = False"
   ]
  },
  {
   "cell_type": "code",
   "execution_count": 78,
   "metadata": {
    "Collapsed": "false"
   },
   "outputs": [
    {
     "data": {
      "text/html": [
       "<div>\n",
       "<style scoped>\n",
       "    .dataframe tbody tr th:only-of-type {\n",
       "        vertical-align: middle;\n",
       "    }\n",
       "\n",
       "    .dataframe tbody tr th {\n",
       "        vertical-align: top;\n",
       "    }\n",
       "\n",
       "    .dataframe thead th {\n",
       "        text-align: right;\n",
       "    }\n",
       "</style>\n",
       "<table border=\"1\" class=\"dataframe\">\n",
       "  <thead>\n",
       "    <tr style=\"text-align: right;\">\n",
       "      <th></th>\n",
       "      <th>img_name</th>\n",
       "      <th>is_sky</th>\n",
       "      <th>is_sky_PREDICTED</th>\n",
       "      <th>fold</th>\n",
       "      <th>is_sky_PREDICTED_COR</th>\n",
       "    </tr>\n",
       "  </thead>\n",
       "  <tbody>\n",
       "    <tr>\n",
       "      <th>0</th>\n",
       "      <td>labelme_aacpgupgzvdjapw.jpg</td>\n",
       "      <td>0.0</td>\n",
       "      <td>0.0</td>\n",
       "      <td>3</td>\n",
       "      <td>0.0</td>\n",
       "    </tr>\n",
       "    <tr>\n",
       "      <th>1</th>\n",
       "      <td>labelme_aacpgupgzvdjapw.jpg</td>\n",
       "      <td>0.0</td>\n",
       "      <td>0.0</td>\n",
       "      <td>3</td>\n",
       "      <td>0.0</td>\n",
       "    </tr>\n",
       "    <tr>\n",
       "      <th>2</th>\n",
       "      <td>labelme_aacpgupgzvdjapw.jpg</td>\n",
       "      <td>0.0</td>\n",
       "      <td>0.0</td>\n",
       "      <td>3</td>\n",
       "      <td>0.0</td>\n",
       "    </tr>\n",
       "    <tr>\n",
       "      <th>3</th>\n",
       "      <td>labelme_aacpgupgzvdjapw.jpg</td>\n",
       "      <td>0.0</td>\n",
       "      <td>0.0</td>\n",
       "      <td>3</td>\n",
       "      <td>0.0</td>\n",
       "    </tr>\n",
       "    <tr>\n",
       "      <th>4</th>\n",
       "      <td>labelme_aacpgupgzvdjapw.jpg</td>\n",
       "      <td>0.0</td>\n",
       "      <td>0.0</td>\n",
       "      <td>3</td>\n",
       "      <td>0.0</td>\n",
       "    </tr>\n",
       "  </tbody>\n",
       "</table>\n",
       "</div>"
      ],
      "text/plain": [
       "                      img_name  is_sky  is_sky_PREDICTED  fold  \\\n",
       "0  labelme_aacpgupgzvdjapw.jpg     0.0               0.0     3   \n",
       "1  labelme_aacpgupgzvdjapw.jpg     0.0               0.0     3   \n",
       "2  labelme_aacpgupgzvdjapw.jpg     0.0               0.0     3   \n",
       "3  labelme_aacpgupgzvdjapw.jpg     0.0               0.0     3   \n",
       "4  labelme_aacpgupgzvdjapw.jpg     0.0               0.0     3   \n",
       "\n",
       "   is_sky_PREDICTED_COR  \n",
       "0                   0.0  \n",
       "1                   0.0  \n",
       "2                   0.0  \n",
       "3                   0.0  \n",
       "4                   0.0  "
      ]
     },
     "execution_count": 78,
     "metadata": {},
     "output_type": "execute_result"
    }
   ],
   "source": [
    "df_cv = ft.read_dataframe('data/process/sky_segmentation/model_1_cv.ft')\n",
    "df_cv.head()"
   ]
  },
  {
   "cell_type": "code",
   "execution_count": 79,
   "metadata": {
    "Collapsed": "false"
   },
   "outputs": [
    {
     "data": {
      "text/html": [
       "<div>\n",
       "<style scoped>\n",
       "    .dataframe tbody tr th:only-of-type {\n",
       "        vertical-align: middle;\n",
       "    }\n",
       "\n",
       "    .dataframe tbody tr th {\n",
       "        vertical-align: top;\n",
       "    }\n",
       "\n",
       "    .dataframe thead th {\n",
       "        text-align: right;\n",
       "    }\n",
       "</style>\n",
       "<table border=\"1\" class=\"dataframe\">\n",
       "  <thead>\n",
       "    <tr style=\"text-align: right;\">\n",
       "      <th></th>\n",
       "      <th>img_name</th>\n",
       "      <th>img_path</th>\n",
       "      <th>size_h</th>\n",
       "      <th>size_l</th>\n",
       "      <th>sky_coverage</th>\n",
       "      <th>sky_coverage_after_resize</th>\n",
       "      <th>is_used</th>\n",
       "    </tr>\n",
       "  </thead>\n",
       "  <tbody>\n",
       "    <tr>\n",
       "      <th>0</th>\n",
       "      <td>labelme_aacpgupgzvdjapw.jpg</td>\n",
       "      <td>http://labelme.csail.mit.edu/Images/users/anto...</td>\n",
       "      <td>100</td>\n",
       "      <td>133</td>\n",
       "      <td>0.213749</td>\n",
       "      <td>0.216015</td>\n",
       "      <td>True</td>\n",
       "    </tr>\n",
       "    <tr>\n",
       "      <th>1</th>\n",
       "      <td>labelme_aajuldidvlcyzhv.jpg</td>\n",
       "      <td>http://labelme.csail.mit.edu/Images/users/anto...</td>\n",
       "      <td>100</td>\n",
       "      <td>133</td>\n",
       "      <td>0.102192</td>\n",
       "      <td>0.103534</td>\n",
       "      <td>True</td>\n",
       "    </tr>\n",
       "    <tr>\n",
       "      <th>2</th>\n",
       "      <td>labelme_aajvoauwthyaehf.jpg</td>\n",
       "      <td>http://labelme.csail.mit.edu/Images/users/anto...</td>\n",
       "      <td>0</td>\n",
       "      <td>0</td>\n",
       "      <td>0.002079</td>\n",
       "      <td>0.000000</td>\n",
       "      <td>False</td>\n",
       "    </tr>\n",
       "    <tr>\n",
       "      <th>3</th>\n",
       "      <td>labelme_aalbzqrimafwbiv.jpg</td>\n",
       "      <td>http://labelme.csail.mit.edu/Images/users/anto...</td>\n",
       "      <td>100</td>\n",
       "      <td>133</td>\n",
       "      <td>0.335283</td>\n",
       "      <td>0.337744</td>\n",
       "      <td>True</td>\n",
       "    </tr>\n",
       "    <tr>\n",
       "      <th>4</th>\n",
       "      <td>labelme_aatpnkdmtvmagyh.jpg</td>\n",
       "      <td>http://labelme.csail.mit.edu/Images/users/anto...</td>\n",
       "      <td>0</td>\n",
       "      <td>0</td>\n",
       "      <td>0.022681</td>\n",
       "      <td>0.000000</td>\n",
       "      <td>False</td>\n",
       "    </tr>\n",
       "  </tbody>\n",
       "</table>\n",
       "</div>"
      ],
      "text/plain": [
       "                      img_name  \\\n",
       "0  labelme_aacpgupgzvdjapw.jpg   \n",
       "1  labelme_aajuldidvlcyzhv.jpg   \n",
       "2  labelme_aajvoauwthyaehf.jpg   \n",
       "3  labelme_aalbzqrimafwbiv.jpg   \n",
       "4  labelme_aatpnkdmtvmagyh.jpg   \n",
       "\n",
       "                                            img_path  size_h  size_l  \\\n",
       "0  http://labelme.csail.mit.edu/Images/users/anto...     100     133   \n",
       "1  http://labelme.csail.mit.edu/Images/users/anto...     100     133   \n",
       "2  http://labelme.csail.mit.edu/Images/users/anto...       0       0   \n",
       "3  http://labelme.csail.mit.edu/Images/users/anto...     100     133   \n",
       "4  http://labelme.csail.mit.edu/Images/users/anto...       0       0   \n",
       "\n",
       "   sky_coverage  sky_coverage_after_resize  is_used  \n",
       "0      0.213749                   0.216015     True  \n",
       "1      0.102192                   0.103534     True  \n",
       "2      0.002079                   0.000000    False  \n",
       "3      0.335283                   0.337744     True  \n",
       "4      0.022681                   0.000000    False  "
      ]
     },
     "execution_count": 79,
     "metadata": {},
     "output_type": "execute_result"
    }
   ],
   "source": [
    "df_meta = ft.read_dataframe('data/process/sky_segmentation/features_meta.ft')\n",
    "df_meta.head()"
   ]
  },
  {
   "cell_type": "code",
   "execution_count": 80,
   "metadata": {
    "Collapsed": "false"
   },
   "outputs": [
    {
     "data": {
      "text/html": [
       "<div>\n",
       "<style scoped>\n",
       "    .dataframe tbody tr th:only-of-type {\n",
       "        vertical-align: middle;\n",
       "    }\n",
       "\n",
       "    .dataframe tbody tr th {\n",
       "        vertical-align: top;\n",
       "    }\n",
       "\n",
       "    .dataframe thead th {\n",
       "        text-align: right;\n",
       "    }\n",
       "</style>\n",
       "<table border=\"1\" class=\"dataframe\">\n",
       "  <thead>\n",
       "    <tr style=\"text-align: right;\">\n",
       "      <th></th>\n",
       "      <th>img_name</th>\n",
       "      <th>accuracy</th>\n",
       "      <th>recall</th>\n",
       "      <th>precision</th>\n",
       "      <th>fold</th>\n",
       "      <th>prediction_label</th>\n",
       "    </tr>\n",
       "  </thead>\n",
       "  <tbody>\n",
       "    <tr>\n",
       "      <th>0</th>\n",
       "      <td>labelme_aacpgupgzvdjapw.jpg</td>\n",
       "      <td>0.870376</td>\n",
       "      <td>0.588235</td>\n",
       "      <td>0.757508</td>\n",
       "      <td>3</td>\n",
       "      <td>is_sky_PREDICTED</td>\n",
       "    </tr>\n",
       "    <tr>\n",
       "      <th>1</th>\n",
       "      <td>labelme_aajuldidvlcyzhv.jpg</td>\n",
       "      <td>0.928571</td>\n",
       "      <td>0.851126</td>\n",
       "      <td>0.611372</td>\n",
       "      <td>5</td>\n",
       "      <td>is_sky_PREDICTED</td>\n",
       "    </tr>\n",
       "    <tr>\n",
       "      <th>2</th>\n",
       "      <td>labelme_aalbzqrimafwbiv.jpg</td>\n",
       "      <td>0.985489</td>\n",
       "      <td>0.969501</td>\n",
       "      <td>0.987304</td>\n",
       "      <td>4</td>\n",
       "      <td>is_sky_PREDICTED</td>\n",
       "    </tr>\n",
       "    <tr>\n",
       "      <th>3</th>\n",
       "      <td>labelme_aaybneesrunupnk.jpg</td>\n",
       "      <td>0.936241</td>\n",
       "      <td>0.922240</td>\n",
       "      <td>0.832164</td>\n",
       "      <td>1</td>\n",
       "      <td>is_sky_PREDICTED</td>\n",
       "    </tr>\n",
       "    <tr>\n",
       "      <th>4</th>\n",
       "      <td>labelme_abxjjdteigmqnyg.jpg</td>\n",
       "      <td>0.870526</td>\n",
       "      <td>0.794927</td>\n",
       "      <td>1.000000</td>\n",
       "      <td>3</td>\n",
       "      <td>is_sky_PREDICTED</td>\n",
       "    </tr>\n",
       "  </tbody>\n",
       "</table>\n",
       "</div>"
      ],
      "text/plain": [
       "                      img_name  accuracy    recall  precision  fold  \\\n",
       "0  labelme_aacpgupgzvdjapw.jpg  0.870376  0.588235   0.757508     3   \n",
       "1  labelme_aajuldidvlcyzhv.jpg  0.928571  0.851126   0.611372     5   \n",
       "2  labelme_aalbzqrimafwbiv.jpg  0.985489  0.969501   0.987304     4   \n",
       "3  labelme_aaybneesrunupnk.jpg  0.936241  0.922240   0.832164     1   \n",
       "4  labelme_abxjjdteigmqnyg.jpg  0.870526  0.794927   1.000000     3   \n",
       "\n",
       "   prediction_label  \n",
       "0  is_sky_PREDICTED  \n",
       "1  is_sky_PREDICTED  \n",
       "2  is_sky_PREDICTED  \n",
       "3  is_sky_PREDICTED  \n",
       "4  is_sky_PREDICTED  "
      ]
     },
     "execution_count": 80,
     "metadata": {},
     "output_type": "execute_result"
    }
   ],
   "source": [
    "if COMPUTE_PERFORMANCE:\n",
    "    score = []\n",
    "\n",
    "    for i in [\"is_sky_PREDICTED\", \"is_sky_PREDICTED_COR\"]:\n",
    "        tmp = {\n",
    "            \"accuracy\": df_cv.groupby(\"img_name\").apply(\n",
    "                lambda x: accuracy_score(x[\"is_sky\"], x[i])\n",
    "            ),\n",
    "            \"recall\": df_cv.groupby(\"img_name\").apply(\n",
    "                lambda x: recall_score(x[\"is_sky\"], x[i])\n",
    "            ),\n",
    "            \"precision\": df_cv.groupby(\"img_name\").apply(\n",
    "                lambda x: precision_score(x[\"is_sky\"], x[i])\n",
    "            ),\n",
    "            \"fold\": df_cv.groupby(\"img_name\").apply(lambda x: list(set(x[\"fold\"]))[0]),\n",
    "        }\n",
    "        tmp_df = pd.concat(tmp.values(), axis=1)\n",
    "        tmp_df.columns = tmp.keys()\n",
    "        tmp_df[\"prediction_label\"] = i\n",
    "\n",
    "        score.append(tmp_df)\n",
    "\n",
    "    score = pd.concat(score)\n",
    "    score.reset_index(inplace=True, drop=False)\n",
    "\n",
    "    ft.write_dataframe(score, \"data/process/sky_segmentation/score.ft\")\n",
    "else:\n",
    "    score = ft.read_dataframe(\"data/process/sky_segmentation/score.ft\")\n",
    "\n",
    "score.head()"
   ]
  },
  {
   "cell_type": "code",
   "execution_count": 81,
   "metadata": {
    "Collapsed": "false"
   },
   "outputs": [],
   "source": [
    "all_img = set(df_cv['img_name'])\n",
    "all_metric = set(['accuracy', 'recall', 'precision'])"
   ]
  },
  {
   "cell_type": "code",
   "execution_count": 82,
   "metadata": {
    "Collapsed": "false"
   },
   "outputs": [],
   "source": [
    "external_stylesheets = [\"https://codepen.io/chriddyp/pen/bWLwgP.css\"]\n",
    "\n",
    "app = dash.Dash(__name__, external_stylesheets=external_stylesheets)\n",
    "\n",
    "app.layout = html.Div(\n",
    "    [\n",
    "        html.Div([html.H1(children=\"Sky segmentation\"),], className=\"row\"),\n",
    "        html.Div(\n",
    "            [\n",
    "                html.Div(\n",
    "                    [\n",
    "                        html.H6(children=\"Metric\"),\n",
    "                        dcc.Dropdown(\n",
    "                            options=[{\"label\": i, \"value\": i} for i in all_metric],\n",
    "                            value=\"accuracy\",\n",
    "                            multi=False,\n",
    "                            id=\"metric\",\n",
    "                        ),\n",
    "                        html.H6(children=\"Image score\"),\n",
    "                        dash_table.DataTable(\n",
    "                            id=\"score_table\",\n",
    "                            columns=[\n",
    "                                {\"name\": i, \"id\": i}\n",
    "                                for i in [\"Image\", \"Score\", \"Corrected Score\"]\n",
    "                            ],\n",
    "                            sort_action=\"native\",\n",
    "                            page_size=10,\n",
    "                            style_table={\"maxHeight\": \"50\", \"overflowY\": \"scroll\"},\n",
    "                        ),\n",
    "                    ],\n",
    "                    className=\"four columns\",\n",
    "                ),\n",
    "                html.Div(\n",
    "                    [\n",
    "                        html.H6(children=\"Score\"),\n",
    "                        dcc.Graph(id=\"box_plot\"),\n",
    "                    ],\n",
    "                    className=\"eight columns\",\n",
    "                ),\n",
    "            ],\n",
    "            className=\"row\",\n",
    "        ),\n",
    "        html.Div(\n",
    "            [\n",
    "                html.Div(\n",
    "                    [\n",
    "                        html.H6(children=\"image name\"),\n",
    "                        dcc.Dropdown(\n",
    "                            options=[{\"label\": i, \"value\": i} for i in all_img],\n",
    "                            value=\"labelme_aacpgupgzvdjapw.jpg\",\n",
    "                            multi=False,\n",
    "                            id=\"img_name\",\n",
    "                        ),\n",
    "                        html.H6(children=\"With correction\"),\n",
    "                        dcc.RadioItems(\n",
    "                            id=\"corr\",\n",
    "                            options=[\n",
    "                                {\"label\": i, \"value\": i} for i in [\"True\", \"False\"]\n",
    "                            ],\n",
    "                            value=\"False\",\n",
    "                            labelStyle={\"display\": \"inline-block\"},\n",
    "                        ),\n",
    "                        html.H6(children=\"confusion matrix\"),\n",
    "                        dcc.Markdown(\n",
    "                            children=\"\"\"\n",
    "                                            |          | pos      | neg      |\n",
    "                                            |----------|----------|----------|\n",
    "                                            | Pred Pos | 0   | 0  | \n",
    "                                            | Pred Neg | 0   | 0  | \n",
    "                                        \"\"\",\n",
    "                            id=\"confusion_matrix\",\n",
    "                        ),\n",
    "                    ],\n",
    "                    className=\"four columns\",\n",
    "                ),\n",
    "                html.Div(\n",
    "                    [\n",
    "                        html.H6(children=\"Image\"),\n",
    "                        html.Img(src=\"\", id=\"img_plot\"),\n",
    "                    ],\n",
    "                    className=\"eight columns\",\n",
    "                ),\n",
    "            ],\n",
    "            className=\"row\",\n",
    "        ),\n",
    "    ],\n",
    "    className=\"ten columns offset-by-one\",\n",
    ")"
   ]
  },
  {
   "cell_type": "code",
   "execution_count": 83,
   "metadata": {
    "Collapsed": "false"
   },
   "outputs": [],
   "source": [
    "@app.callback(\n",
    "    Output(\"box_plot\", \"figure\"), [Input(\"metric\", \"value\")]\n",
    ")\n",
    "def update_plot(metric):\n",
    "    data = []\n",
    "    for fold_label, fold_df in score.groupby(\"fold\"):\n",
    "        data.append(go.Box(y=fold_df[fold_df.prediction_label == \"is_sky_PREDICTED\"][metric], name=str(fold_label) + \"_without_cor\"))\n",
    "        data.append(go.Box(y=fold_df[fold_df.prediction_label == \"is_sky_PREDICTED_COR\"][metric], name=str(fold_label) + \"_with_cor\"))\n",
    "    return {\"data\": data}"
   ]
  },
  {
   "cell_type": "code",
   "execution_count": 84,
   "metadata": {
    "Collapsed": "false"
   },
   "outputs": [],
   "source": [
    "@app.callback(\n",
    "    Output(\"confusion_matrix\", \"children\"),\n",
    "    [Input(\"img_name\", \"value\"), Input(\"corr\", \"value\")],\n",
    ")\n",
    "def update_confusion_matrix(img_name, with_correction):\n",
    "\n",
    "    if with_correction == \"True\":\n",
    "        pred_label = \"is_sky_PREDICTED_COR\"\n",
    "    else:\n",
    "        pred_label = \"is_sky_PREDICTED\"\n",
    "\n",
    "    tmp = df_cv[df_cv[\"img_name\"] == img_name].copy()\n",
    "\n",
    "    tn, fp, fn, tp = confusion_matrix(tmp[\"is_sky\"], tmp[pred_label]).ravel()\n",
    "\n",
    "    txt = \"\"\"\n",
    "        |          | pos      | neg      |\n",
    "        |----------|----------|----------|\n",
    "        | Pred Pos | {}   | {}  | \n",
    "        | Pred Neg | {}   | {}    |\n",
    "        \"\"\".format(\n",
    "        tp, fp, fn, tn\n",
    "    )\n",
    "    return txt"
   ]
  },
  {
   "cell_type": "code",
   "execution_count": 85,
   "metadata": {
    "Collapsed": "false"
   },
   "outputs": [],
   "source": [
    "@app.callback(Output('score_table', 'data'), [Input('metric', 'value')])\n",
    "def update_table(metric):\n",
    "    tmp = score[['img_name', metric, \"prediction_label\"]].groupby(['img_name', 'prediction_label']).mean().unstack(level=1).reset_index(drop=False)\n",
    "    tmp.columns = [\"Image\", \"Score\", \"Corrected Score\"]\n",
    "    return tmp.to_dict(\"rows\")\n"
   ]
  },
  {
   "cell_type": "code",
   "execution_count": 86,
   "metadata": {
    "Collapsed": "false"
   },
   "outputs": [],
   "source": [
    "@app.callback(\n",
    "    Output(\"img_plot\", \"src\"), [Input(\"img_name\", \"value\"), Input(\"corr\", \"value\")]\n",
    ")\n",
    "def update_image(img_name, with_correction):\n",
    "\n",
    "    if with_correction == \"True\":\n",
    "        pred_label = \"is_sky_PREDICTED_COR\"\n",
    "    else:\n",
    "        pred_label = \"is_sky_PREDICTED\"\n",
    "\n",
    "    size_h, size_l = df_meta[df_meta.img_name == img_name][[\"size_h\", \"size_l\"]].iloc[0]\n",
    "\n",
    "    df_cv_image = df_cv[df_cv.img_name == img_name].copy()\n",
    "\n",
    "    sky = df_cv_image[\"is_sky\"].values.reshape((size_h, size_l))\n",
    "    sky_contours = measure.find_contours(sky, 0)\n",
    "    \n",
    "    sky_predicted = df_cv_image[pred_label].values.reshape((size_h, size_l))\n",
    "    sky_predicted_contours = measure.find_contours(sky_predicted, 0)\n",
    "\n",
    "    img = load_image(\"data/img/sky_segmentation/\", img_name)\n",
    "    img_resized = resize_image(img, 100)\n",
    "\n",
    "    fig, ax = plt.subplots(figsize=(10, 10))\n",
    "    ax.imshow(img_resized)\n",
    "    for n, c in enumerate(sky_contours):\n",
    "        ax.plot(c[:, 1], c[:, 0], linewidth=3, color=\"r\")\n",
    "    for n, c in enumerate(sky_predicted_contours):\n",
    "        ax.plot(c[:, 1], c[:, 0], linewidth=3, color=\"y\")\n",
    "    figfile = BytesIO()\n",
    "    plt.savefig(figfile, format=\"png\")\n",
    "    figdata_png = base64.b64encode(figfile.getvalue()).decode()\n",
    "\n",
    "    src = \"data:image/png;base64,{}\".format(figdata_png)\n",
    "\n",
    "    return src"
   ]
  },
  {
   "cell_type": "code",
   "execution_count": 87,
   "metadata": {
    "Collapsed": "false"
   },
   "outputs": [],
   "source": [
    "viewer.stderr_queue.write('Running on'.encode('utf-8'))\n",
    "viewer.show(app)"
   ]
  },
  {
   "cell_type": "code",
   "execution_count": 75,
   "metadata": {
    "Collapsed": "false"
   },
   "outputs": [],
   "source": [
    "viewer.terminate()"
   ]
  },
  {
   "cell_type": "code",
   "execution_count": null,
   "metadata": {
    "Collapsed": "false"
   },
   "outputs": [],
   "source": [
    "img_name = 'labelme_aaybneesrunupnk.jpg'\n",
    "img = load_image('data/img/sky_segmentation/', img_name)\n",
    "fig, ax = plt.subplots(1, 1, figsize=(10, 10))\n",
    "ax.imshow(img)"
   ]
  },
  {
   "cell_type": "code",
   "execution_count": null,
   "metadata": {
    "Collapsed": "false"
   },
   "outputs": [],
   "source": [
    "size_h, size_l = df_meta[df_meta.img_name == img_name][['size_h', 'size_l']].iloc[0]"
   ]
  },
  {
   "cell_type": "code",
   "execution_count": null,
   "metadata": {
    "Collapsed": "false"
   },
   "outputs": [],
   "source": [
    "img_resized = resize_image(img, 100)"
   ]
  },
  {
   "cell_type": "code",
   "execution_count": null,
   "metadata": {
    "Collapsed": "false"
   },
   "outputs": [],
   "source": [
    "sky = df_cv[df_cv.img_name==img_name]['is_sky'].values.reshape((size_h, size_l))\n",
    "sky_contours = measure.find_contours(sky,0)\n",
    "sky_predicted = df_cv[df_cv.img_name==img_name]['is_sky_PREDICTED'].values.reshape((size_h, size_l))\n",
    "sky_predicted_contours = measure.find_contours(sky_predicted, 0)"
   ]
  },
  {
   "cell_type": "code",
   "execution_count": null,
   "metadata": {
    "Collapsed": "false"
   },
   "outputs": [],
   "source": [
    "fig, ax = plt.subplots(figsize=(10, 10))\n",
    "ax.imshow(img_resized)\n",
    "\n",
    "for n, c in enumerate(sky_contours):\n",
    "    ax.plot(c[:, 1], c[:, 0], linewidth=3, color=\"r\")\n",
    "for n, c in enumerate(sky_predicted_contours):\n",
    "    ax.plot(c[:, 1], c[:, 0], linewidth=3, color=\"y\")"
   ]
  },
  {
   "cell_type": "code",
   "execution_count": null,
   "metadata": {
    "Collapsed": "false"
   },
   "outputs": [],
   "source": [
    "sky"
   ]
  },
  {
   "cell_type": "code",
   "execution_count": null,
   "metadata": {
    "Collapsed": "false"
   },
   "outputs": [],
   "source": [
    "fig, ax = plt.subplots(1, 1, figsize=(10, 10))\n",
    "ax.imshow(sky)"
   ]
  },
  {
   "cell_type": "code",
   "execution_count": null,
   "metadata": {
    "Collapsed": "false"
   },
   "outputs": [],
   "source": [
    "fig, ax = plt.subplots(1, 1, figsize=(10, 10))\n",
    "ax.imshow(sky_predicted)"
   ]
  },
  {
   "cell_type": "code",
   "execution_count": null,
   "metadata": {
    "Collapsed": "false"
   },
   "outputs": [],
   "source": []
  }
 ],
 "metadata": {
  "kernelspec": {
   "display_name": "Python 3",
   "language": "python",
   "name": "python3"
  },
  "language_info": {
   "codemirror_mode": {
    "name": "ipython",
    "version": 3
   },
   "file_extension": ".py",
   "mimetype": "text/x-python",
   "name": "python",
   "nbconvert_exporter": "python",
   "pygments_lexer": "ipython3",
   "version": "3.6.9"
  },
  "widgets": {
   "application/vnd.jupyter.widget-state+json": {
    "state": {},
    "version_major": 2,
    "version_minor": 0
   }
  }
 },
 "nbformat": 4,
 "nbformat_minor": 4
}
