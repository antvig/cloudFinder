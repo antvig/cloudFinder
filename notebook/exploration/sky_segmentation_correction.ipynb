{
 "cells": [
  {
   "cell_type": "code",
   "execution_count": 1,
   "metadata": {},
   "outputs": [
    {
     "name": "stdout",
     "output_type": "stream",
     "text": [
      "/home/antoine/cloudFinder\n"
     ]
    }
   ],
   "source": [
    "cd '~/cloudFinder/'"
   ]
  },
  {
   "cell_type": "code",
   "execution_count": 2,
   "metadata": {},
   "outputs": [
    {
     "ename": "ImportError",
     "evalue": "cannot import name 'img_find_sky'",
     "output_type": "error",
     "traceback": [
      "\u001b[0;31m---------------------------------------------------------------------------\u001b[0m",
      "\u001b[0;31mImportError\u001b[0m                               Traceback (most recent call last)",
      "\u001b[0;32m<ipython-input-2-94b05dcf967b>\u001b[0m in \u001b[0;36m<module>\u001b[0;34m\u001b[0m\n\u001b[1;32m      2\u001b[0m \u001b[0;32mimport\u001b[0m \u001b[0mfeather\u001b[0m \u001b[0;32mas\u001b[0m \u001b[0mft\u001b[0m\u001b[0;34m\u001b[0m\u001b[0;34m\u001b[0m\u001b[0m\n\u001b[1;32m      3\u001b[0m \u001b[0;32mimport\u001b[0m \u001b[0mnumpy\u001b[0m \u001b[0;32mas\u001b[0m \u001b[0mnp\u001b[0m\u001b[0;34m\u001b[0m\u001b[0;34m\u001b[0m\u001b[0m\n\u001b[0;32m----> 4\u001b[0;31m \u001b[0;32mfrom\u001b[0m \u001b[0msrc\u001b[0m\u001b[0;34m.\u001b[0m\u001b[0msky_segmentation\u001b[0m\u001b[0;34m.\u001b[0m\u001b[0msky_segmentation\u001b[0m \u001b[0;32mimport\u001b[0m \u001b[0mimg_find_sky\u001b[0m\u001b[0;34m\u001b[0m\u001b[0;34m\u001b[0m\u001b[0m\n\u001b[0m\u001b[1;32m      5\u001b[0m \u001b[0;32mfrom\u001b[0m \u001b[0msrc\u001b[0m\u001b[0;34m.\u001b[0m\u001b[0mimage\u001b[0m\u001b[0;34m.\u001b[0m\u001b[0mutils\u001b[0m \u001b[0;32mimport\u001b[0m \u001b[0mplot\u001b[0m\u001b[0;34m\u001b[0m\u001b[0;34m\u001b[0m\u001b[0m\n\u001b[1;32m      6\u001b[0m \u001b[0;34m\u001b[0m\u001b[0m\n",
      "\u001b[0;31mImportError\u001b[0m: cannot import name 'img_find_sky'"
     ]
    }
   ],
   "source": [
    "import pandas as pd\n",
    "import feather as ft\n",
    "import numpy as np\n",
    "from src.sky_segmentation.sky_segmentation import \n",
    "from src.image.utils import plot\n",
    "\n",
    "from plotly.subplots import make_subplots\n",
    "import plotly.graph_objects as go\n",
    "import plotly.offline as po\n",
    "\n",
    "po.init_notebook_mode()"
   ]
  },
  {
   "cell_type": "code",
   "execution_count": null,
   "metadata": {},
   "outputs": [],
   "source": [
    "df_meta = ft.read_dataframe(\"data/process/sky_segmentation/traindataset_meta.ft\")\n",
    "df_meta.head()"
   ]
  },
  {
   "cell_type": "code",
   "execution_count": null,
   "metadata": {},
   "outputs": [],
   "source": [
    "df_prediction = ft.read_dataframe('data/process/sky_segmentation/cv.ft')\n",
    "df_prediction.head()"
   ]
  },
  {
   "cell_type": "code",
   "execution_count": null,
   "metadata": {},
   "outputs": [],
   "source": [
    "df_prediction.head()"
   ]
  },
  {
   "cell_type": "code",
   "execution_count": null,
   "metadata": {},
   "outputs": [],
   "source": [
    "hist_s = np.histogram(df_pred_img_sky.is_sky_PROBA.values, bins=20, range=(0,1))\n",
    "hist_ns = np.histogram(df_pred_img_no_sky.is_sky_PROBA.values, bins=20, range=(0,1))"
   ]
  },
  {
   "cell_type": "code",
   "execution_count": null,
   "metadata": {},
   "outputs": [],
   "source": [
    "n_folds = len(df_prediction.fold.unique())\n",
    "\n",
    "fig = make_subplots(rows=n_folds, shared_xaxes=True)\n",
    "\n",
    "for fold, df_fold in df_prediction.groupby(\"fold\"):\n",
    "    _df_sky = df_fold[df_fold.is_sky == 1].copy()\n",
    "    _df_no_sky = df_fold[df_fold.is_sky == 0].copy()\n",
    "\n",
    "    hist_s = np.histogram(_df_sky.is_sky_PROBA.values, bins=50, range=(0,1))\n",
    "    hist_ns = np.histogram(_df_no_sky.is_sky_PROBA.values, bins=50, range=(0,1))\n",
    "\n",
    "    fig.add_trace(go.Bar(x=hist_s[1], y=hist_s[0]), fold,1)\n",
    "    fig.add_trace(go.Bar(x=hist_ns[1], y=hist_ns[0]), fold,1)\n",
    "\n",
    "po.iplot(fig)"
   ]
  },
  {
   "cell_type": "code",
   "execution_count": null,
   "metadata": {},
   "outputs": [],
   "source": [
    "img_name = \"labelme_aacpgupgzvdjapw.jpg\"\n",
    "df_pred_img = df_prediction[df_prediction.img_name==img_name].copy()\n",
    "size_h = df_meta[df_meta.img_name == img_name][\"size_h\"].iloc[0]\n",
    "size_l = df_meta[df_meta.img_name == img_name][\"size_l\"].iloc[0]"
   ]
  },
  {
   "cell_type": "code",
   "execution_count": null,
   "metadata": {},
   "outputs": [],
   "source": [
    "sky_proba_mask = df_pred_img.is_sky_PROBA.values.reshape(size_h, size_l)"
   ]
  },
  {
   "cell_type": "code",
   "execution_count": null,
   "metadata": {},
   "outputs": [],
   "source": [
    "sky_proba_mask"
   ]
  },
  {
   "cell_type": "code",
   "execution_count": null,
   "metadata": {},
   "outputs": [],
   "source": [
    "plot(sky_proba_mask)"
   ]
  },
  {
   "cell_type": "code",
   "execution_count": null,
   "metadata": {},
   "outputs": [],
   "source": [
    "from skimage.morphology import closing, opening\n",
    "from skimage.segmentation import clear_border\n"
   ]
  },
  {
   "cell_type": "code",
   "execution_count": null,
   "metadata": {},
   "outputs": [],
   "source": [
    "sky_mask = sky_proba_mask > 0.5"
   ]
  },
  {
   "cell_type": "code",
   "execution_count": null,
   "metadata": {},
   "outputs": [],
   "source": [
    "plot(opening(sky_mask))"
   ]
  },
  {
   "cell_type": "code",
   "execution_count": null,
   "metadata": {},
   "outputs": [],
   "source": [
    "plot(clear_border(sky_mask))"
   ]
  },
  {
   "cell_type": "code",
   "execution_count": null,
   "metadata": {},
   "outputs": [],
   "source": [
    "plot(opening(sky_mask) & ~clear_border(opening(sky_mask)))"
   ]
  },
  {
   "cell_type": "code",
   "execution_count": null,
   "metadata": {},
   "outputs": [],
   "source": []
  }
 ],
 "metadata": {
  "kernelspec": {
   "display_name": "Python 3",
   "language": "python",
   "name": "python3"
  },
  "language_info": {
   "codemirror_mode": {
    "name": "ipython",
    "version": 3
   },
   "file_extension": ".py",
   "mimetype": "text/x-python",
   "name": "python",
   "nbconvert_exporter": "python",
   "pygments_lexer": "ipython3",
   "version": "3.6.9"
  }
 },
 "nbformat": 4,
 "nbformat_minor": 4
}
